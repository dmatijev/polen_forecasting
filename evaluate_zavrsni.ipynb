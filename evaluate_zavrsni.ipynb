{
 "cells": [
  {
   "cell_type": "code",
   "execution_count": 10,
   "id": "4539fbd1-2fee-4a6c-893b-62a7fefc096a",
   "metadata": {},
   "outputs": [],
   "source": [
    "from model import *\n",
    "from train_test_split import *\n",
    "from predictionsGraph import *\n",
    "from data_set import *\n",
    "from torch.utils.data import DataLoader\n",
    "from scipy.stats import spearmanr"
   ]
  },
  {
   "cell_type": "code",
   "execution_count": 11,
   "id": "6d70ca1d-8cb6-477c-a124-5e72e86a484e",
   "metadata": {},
   "outputs": [],
   "source": [
    "seq_len = 3 #ovdje treba biti ista vrijednost kao kad se treniralo\n",
    "batch_size = 1 #\n",
    "hidden_dim = 512\n",
    "#hidden_dim2 = 1024\n",
    "attention = True\n",
    "target='PRAM'\n",
    "nr_days = 1"
   ]
  },
  {
   "cell_type": "code",
   "execution_count": 12,
   "id": "9020276c-a5c0-4e66-a8e6-c0a54fac99f1",
   "metadata": {},
   "outputs": [],
   "source": [
    "train_data, val_data, test_data = load_data('real_for_all_podaci_novo.csv', 'lognormalize', target) \n",
    "input_dim = train_data.shape[1]\n",
    "train_dataset = Dataset(train_data, seq_len, nr_days, target)\n",
    "val_dataset = Dataset(val_data, seq_len, nr_days, target)\n",
    "test_dataset = Dataset(test_data, seq_len, nr_days, target)\n",
    "test_loader = DataLoader(test_dataset, shuffle=False, batch_size=batch_size)\n",
    "val_loader = DataLoader(val_dataset, shuffle=False, batch_size=batch_size)\n",
    "train_loader = DataLoader(train_dataset, shuffle=False, batch_size=batch_size)\n",
    "#model = Net(input_dim,  hidden_dim = hidden_dim, hidden_dim2 = hidden_dim2, seq_len=seq_len, nr_days=nr_days, attention=attention)\n",
    "model = Net(input_dim,  hidden_dim = hidden_dim, seq_len=seq_len, nr_days=nr_days, attention=attention)"
   ]
  },
  {
   "cell_type": "code",
   "execution_count": 13,
   "id": "1cd8360d-6a90-4091-8c41-66a7e024ceda",
   "metadata": {},
   "outputs": [
    {
     "data": {
      "text/plain": [
       "Net(\n",
       "  (lstm): LSTM(7, 512, batch_first=True)\n",
       "  (fc): Linear(in_features=512, out_features=1, bias=True)\n",
       "  (lstm_cell): LSTMCell(6, 512)\n",
       "  (sigmoid): Sigmoid()\n",
       "  (attention): Attention(\n",
       "    (v): Linear(in_features=3, out_features=1, bias=True)\n",
       "  )\n",
       ")"
      ]
     },
     "execution_count": 13,
     "metadata": {},
     "output_type": "execute_result"
    }
   ],
   "source": [
    "path_to_model = f'models/PRAM/batch_size_32-seq_len_3-lr_0.01-hidd_dim_128-hidd_dim2_1024-att_{attention}_best.weights'\n",
    "path_to_model = f'models/PRAM/batch_size_32-seq_len_3-lr_0.01-hidd_dim_128-hidd_dim2_128-att_{attention}_best.weights'\n",
    "path_to_model = f'models/PRAM/batch_size_32-seq_len_3-lr_0.007-hidd_dim_128-hidd_dim2_1024-att_{attention}_best.weights'\n",
    "path_to_model = f'models/PRAM/batch_size_32-seq_len_3-lr_0.005-hidd_dim_128-hidd_dim2_1024-att_{attention}_best.weights'\n",
    "\n",
    "path_to_model = f'models/PRBR/batch_size_128-seq_len_3-lr_0.005-hidd_dim_32-hidd_dim2_1024-att_{attention}_best.weights'\n",
    "path_to_model = f'models/PRBR/batch_size_128-seq_len_3-lr_0.01-hidd_dim_32-hidd_dim2_1024-att_{attention}_best.weights'\n",
    "\n",
    "path_to_model = f'models/PRTR/batch_size_128-seq_len_3-lr_0.007-hidd_dim_16-hidd_dim2_128-att_{attention}_best.weights'\n",
    "path_to_model = f'models/PRTR/batch_size_128-seq_len_3-lr_0.005-hidd_dim_16-hidd_dim2_128-att_{attention}_best.weights'\n",
    "\n",
    "path_to_model = f'models/PRAM/batch_size_32-seq_len_3-nr_days_2-lr_0.005-hidd_dim_128-hidd_dim2_1024-att_{attention}_best.weights'\n",
    "path_to_model = f'models/PRAM/batch_size_32-seq_len_3-nr_days_3-lr_0.005-hidd_dim_128-hidd_dim2_1024-att_{attention}_best.weights'\n",
    "\n",
    "path_to_model = f'models/PRAM/batch_size_32-seq_len_3-nr_days_2-lr_0.005-hidd_dim_128-hidd_dim2_1024-att_{attention}_best_probaMeteo.weights'\n",
    "path_to_model = f'models/PRAM/batch_size_32-seq_len_3-nr_days_1-lr_0.005-hidd_dim_128-hidd_dim2_1024-att_{attention}_best_probaMeteo.weights'\n",
    "path_to_model = f'models/PRAM/batch_size_32-seq_len_3-nr_days_1-lr_0.005-hidd_dim_256-hidd_dim2_1024-att_{attention}_best_probaMeteo.weights'\n",
    "\n",
    "path_to_model = f'models/PRAM/batch_size_32-seq_len_3-nr_days_1-lr_0.005-hidd_dim_512-hidd_dim2_1024-att_{attention}_best_meteo.weights'\n",
    "path_to_model = f'models/PRAM/batch_size_32-seq_len_3-nr_days_1-lr_0.005-hidd_dim_512-att_{attention}_best_meteo.weights'\n",
    "path_to_model = f'models/PRAM/batch_size_1-seq_len_3-nr_days_1-lr_0.005-hidd_dim_512-att_{attention}_best_meteo.weights'\n",
    "model.load_state_dict(torch.load(path_to_model))\n",
    "model.eval()"
   ]
  },
  {
   "cell_type": "code",
   "execution_count": 14,
   "id": "903f945a-69af-4126-8e9e-596bdcc99e9f",
   "metadata": {},
   "outputs": [],
   "source": [
    "def calculateMean(targ='PRAM', locations=['NS'], test_years=[2015, 2016], valid_years=None):\n",
    "    #targ = targ\n",
    "    data = pd.read_csv('real_for_all_podaci_novo.csv')\n",
    "    data = data[[targ, 'GOD', 'LOK']]\n",
    "    trainvalid_dataset_pom, test_dataset_pom = train_test_split(data, targ, locations = locations, test_years=test_years)\n",
    "    if valid_years is not None:\n",
    "        trainvalid_dataset_pom, test_dataset_pom = train_test_split(data, targ, locations = locations, test_years=valid_years)\n",
    "    MEAN = trainvalid_dataset_pom[targ].mean()\n",
    "    return MEAN\n",
    "\n",
    "def returnTensorToStartingValues(t, mean):\n",
    "    return (torch.exp(t)-1)*mean\n",
    "\n",
    "MEAN = calculateMean(targ=target, locations=['NS'], test_years=[2015, 2016], valid_years=[2013,2014])"
   ]
  },
  {
   "cell_type": "code",
   "execution_count": 15,
   "id": "66b95708-c022-4d29-b1a4-6b4e6b098f53",
   "metadata": {},
   "outputs": [],
   "source": [
    "realValues = []\n",
    "predictedValues = []\n",
    "for dan in range(nr_days):\n",
    "    realValues.append([])\n",
    "    predictedValues.append([])\n",
    "model.to('cuda')\n",
    "\n",
    "for (inputs, meteo, labels) in test_loader:\n",
    "    inputs, meteo, labels = inputs.to('cuda'), meteo.to('cuda'), labels.to('cuda')\n",
    "    output = model(inputs, meteo)#, h)\n",
    "    for dan in range(nr_days):\n",
    "        realValues[dan].append(labels[0][dan].item())\n",
    "        predictedValues[dan].append(output[0][dan].item())\n",
    "\n",
    "for dan in range(nr_days):\n",
    "    realValues[dan] = torch.FloatTensor(realValues[dan])\n",
    "    predictedValues[dan]= torch.FloatTensor(predictedValues[dan])\n",
    "    realValues[dan] = returnTensorToStartingValues(realValues[dan],MEAN)\n",
    "    predictedValues[dan] = returnTensorToStartingValues(predictedValues[dan],MEAN)"
   ]
  },
  {
   "cell_type": "code",
   "execution_count": 16,
   "id": "cadcaaa5-5674-4abc-9d8c-b4f4f01d290a",
   "metadata": {},
   "outputs": [
    {
     "data": {
      "image/png": "[encoded data removed]",
      "text/plain": [
       "<Figure size 432x288 with 1 Axes>"
      ]
     },
     "metadata": {
      "needs_background": "light"
     },
     "output_type": "display_data"
    },
    {
     "name": "stdout",
     "output_type": "stream",
     "text": [
      "DAN 0  loss LSTM: tensor(116.9037) loss pattern: tensor(130.5429)\n"
     ]
    }
   ],
   "source": [
    "if target=='PRAM':\n",
    "    naziv='ambrozija'\n",
    "if target=='PRBR':\n",
    "    naziv='breza'\n",
    "if target=='PRTR':\n",
    "    naziv='trave'\n",
    "podaciZaCrtanje = pd.read_csv(naziv+'_NoviSad_patternPredictions.csv')\n",
    "podaciZaCrtanje = podaciZaCrtanje.sort_values(by=['DAT'])\n",
    "#print(podaciZaCrtanje)\n",
    "staraPredvidjenaVrijednost = []\n",
    "for i in range(len(podaciZaCrtanje)):\n",
    "    staraPredvidjenaVrijednost.append(podaciZaCrtanje.iloc[i].predvidjenaVrijednost)\n",
    "staraPredvidjenaVrijednost = staraPredvidjenaVrijednost[seq_len:-1*nr_days] #jer za prva 3 dana LSTM ne predvidja (tako su napravljeni podaci)\n",
    "#predictionsGraph([realValues, predictedValues, staraPredvidjenaVrijednost], ['stvarna', 'LSTM', 'patterns'],target)\n",
    "#predictionsGraphScatter([realValues, predictedValues, staraPredvidjenaVrijednost], ['stvarna', 'LSTM', 'patterns'],target)\n",
    "for dan in range(nr_days):\n",
    "    predictionsGraph([realValues[dan], predictedValues[dan]], ['stvarna_dan'+str(dan), 'LSTM_dan'+str(dan)],target)\n",
    "\n",
    "loss_fn = nn.MSELoss(reduction='mean')\n",
    "for dan in range(nr_days):\n",
    "    loss1 = np.sqrt(loss_fn(realValues[dan], predictedValues[dan]))\n",
    "    loss2 = np.sqrt(loss_fn(realValues[dan], torch.FloatTensor(staraPredvidjenaVrijednost)))\n",
    "    print('DAN',dan,' loss LSTM:',loss1,'loss pattern:',loss2)"
   ]
  },
  {
   "cell_type": "code",
   "execution_count": 17,
   "id": "d44d0795-39e0-47fa-b3b1-7de2087be14e",
   "metadata": {},
   "outputs": [
    {
     "ename": "FileNotFoundError",
     "evalue": "[Errno 2] No such file or directory: 'aero2020_predictions/test_pram_lag=3_pred.csv'",
     "output_type": "error",
     "traceback": [
      "\u001b[0;31m---------------------------------------------------------------------------\u001b[0m",
      "\u001b[0;31mFileNotFoundError\u001b[0m                         Traceback (most recent call last)",
      "\u001b[0;32m/tmp/ipykernel_171403/3790343124.py\u001b[0m in \u001b[0;36m<module>\u001b[0;34m\u001b[0m\n\u001b[1;32m      1\u001b[0m \u001b[0;32mdef\u001b[0m \u001b[0mreturnToStartingValues\u001b[0m\u001b[0;34m(\u001b[0m\u001b[0mvalue\u001b[0m\u001b[0;34m,\u001b[0m \u001b[0mmean\u001b[0m\u001b[0;34m)\u001b[0m\u001b[0;34m:\u001b[0m\u001b[0;34m\u001b[0m\u001b[0;34m\u001b[0m\u001b[0m\n\u001b[1;32m      2\u001b[0m     \u001b[0;32mreturn\u001b[0m \u001b[0;34m(\u001b[0m\u001b[0mnp\u001b[0m\u001b[0;34m.\u001b[0m\u001b[0me\u001b[0m\u001b[0;34m**\u001b[0m\u001b[0mvalue\u001b[0m\u001b[0;34m-\u001b[0m\u001b[0;36m1\u001b[0m\u001b[0;34m)\u001b[0m\u001b[0;34m*\u001b[0m\u001b[0mmean\u001b[0m\u001b[0;34m\u001b[0m\u001b[0;34m\u001b[0m\u001b[0m\n\u001b[0;32m----> 3\u001b[0;31m \u001b[0maero2020\u001b[0m \u001b[0;34m=\u001b[0m \u001b[0mpd\u001b[0m\u001b[0;34m.\u001b[0m\u001b[0mread_csv\u001b[0m\u001b[0;34m(\u001b[0m\u001b[0;34mf'aero2020_predictions/test_{target.lower()}_lag=3_pred.csv'\u001b[0m\u001b[0;34m,\u001b[0m \u001b[0mheader\u001b[0m \u001b[0;34m=\u001b[0m \u001b[0;36m0\u001b[0m\u001b[0;34m)\u001b[0m\u001b[0;34m\u001b[0m\u001b[0;34m\u001b[0m\u001b[0m\n\u001b[0m\u001b[1;32m      4\u001b[0m \u001b[0maero2020\u001b[0m \u001b[0;34m=\u001b[0m \u001b[0maero2020\u001b[0m\u001b[0;34m.\u001b[0m\u001b[0miloc\u001b[0m\u001b[0;34m[\u001b[0m\u001b[0mseq_len\u001b[0m\u001b[0;34m-\u001b[0m\u001b[0;36m1\u001b[0m\u001b[0;34m:\u001b[0m\u001b[0;34m,\u001b[0m\u001b[0;34m:\u001b[0m\u001b[0;34m]\u001b[0m\u001b[0;34m.\u001b[0m\u001b[0mreset_index\u001b[0m\u001b[0;34m(\u001b[0m\u001b[0;34m)\u001b[0m\u001b[0;34m\u001b[0m\u001b[0;34m\u001b[0m\u001b[0m\n\u001b[1;32m      5\u001b[0m \u001b[0maero2020_predicted\u001b[0m \u001b[0;34m=\u001b[0m \u001b[0mlist\u001b[0m\u001b[0;34m(\u001b[0m\u001b[0mmap\u001b[0m\u001b[0;34m(\u001b[0m\u001b[0;32mlambda\u001b[0m \u001b[0mx\u001b[0m\u001b[0;34m:\u001b[0m \u001b[0mfloat\u001b[0m\u001b[0;34m(\u001b[0m\u001b[0mx\u001b[0m\u001b[0;34m)\u001b[0m\u001b[0;34m,\u001b[0m \u001b[0mlist\u001b[0m\u001b[0;34m(\u001b[0m\u001b[0maero2020\u001b[0m\u001b[0;34m[\u001b[0m\u001b[0;34m'Neural Network'\u001b[0m\u001b[0;34m]\u001b[0m\u001b[0;34m)\u001b[0m\u001b[0;34m)\u001b[0m\u001b[0;34m)\u001b[0m\u001b[0;34m\u001b[0m\u001b[0;34m\u001b[0m\u001b[0m\n",
      "\u001b[0;32m/opt/anaconda3/lib/python3.8/site-packages/pandas/util/_decorators.py\u001b[0m in \u001b[0;36mwrapper\u001b[0;34m(*args, **kwargs)\u001b[0m\n\u001b[1;32m    309\u001b[0m                     \u001b[0mstacklevel\u001b[0m\u001b[0;34m=\u001b[0m\u001b[0mstacklevel\u001b[0m\u001b[0;34m,\u001b[0m\u001b[0;34m\u001b[0m\u001b[0;34m\u001b[0m\u001b[0m\n\u001b[1;32m    310\u001b[0m                 )\n\u001b[0;32m--> 311\u001b[0;31m             \u001b[0;32mreturn\u001b[0m \u001b[0mfunc\u001b[0m\u001b[0;34m(\u001b[0m\u001b[0;34m*\u001b[0m\u001b[0margs\u001b[0m\u001b[0;34m,\u001b[0m \u001b[0;34m**\u001b[0m\u001b[0mkwargs\u001b[0m\u001b[0;34m)\u001b[0m\u001b[0;34m\u001b[0m\u001b[0;34m\u001b[0m\u001b[0m\n\u001b[0m\u001b[1;32m    312\u001b[0m \u001b[0;34m\u001b[0m\u001b[0m\n\u001b[1;32m    313\u001b[0m         \u001b[0;32mreturn\u001b[0m \u001b[0mwrapper\u001b[0m\u001b[0;34m\u001b[0m\u001b[0;34m\u001b[0m\u001b[0m\n",
      "\u001b[0;32m/opt/anaconda3/lib/python3.8/site-packages/pandas/io/parsers/readers.py\u001b[0m in \u001b[0;36mread_csv\u001b[0;34m(filepath_or_buffer, sep, delimiter, header, names, index_col, usecols, squeeze, prefix, mangle_dupe_cols, dtype, engine, converters, true_values, false_values, skipinitialspace, skiprows, skipfooter, nrows, na_values, keep_default_na, na_filter, verbose, skip_blank_lines, parse_dates, infer_datetime_format, keep_date_col, date_parser, dayfirst, cache_dates, iterator, chunksize, compression, thousands, decimal, lineterminator, quotechar, quoting, doublequote, escapechar, comment, encoding, encoding_errors, dialect, error_bad_lines, warn_bad_lines, on_bad_lines, delim_whitespace, low_memory, memory_map, float_precision, storage_options)\u001b[0m\n\u001b[1;32m    584\u001b[0m     \u001b[0mkwds\u001b[0m\u001b[0;34m.\u001b[0m\u001b[0mupdate\u001b[0m\u001b[0;34m(\u001b[0m\u001b[0mkwds_defaults\u001b[0m\u001b[0;34m)\u001b[0m\u001b[0;34m\u001b[0m\u001b[0;34m\u001b[0m\u001b[0m\n\u001b[1;32m    585\u001b[0m \u001b[0;34m\u001b[0m\u001b[0m\n\u001b[0;32m--> 586\u001b[0;31m     \u001b[0;32mreturn\u001b[0m \u001b[0m_read\u001b[0m\u001b[0;34m(\u001b[0m\u001b[0mfilepath_or_buffer\u001b[0m\u001b[0;34m,\u001b[0m \u001b[0mkwds\u001b[0m\u001b[0;34m)\u001b[0m\u001b[0;34m\u001b[0m\u001b[0;34m\u001b[0m\u001b[0m\n\u001b[0m\u001b[1;32m    587\u001b[0m \u001b[0;34m\u001b[0m\u001b[0m\n\u001b[1;32m    588\u001b[0m \u001b[0;34m\u001b[0m\u001b[0m\n",
      "\u001b[0;32m/opt/anaconda3/lib/python3.8/site-packages/pandas/io/parsers/readers.py\u001b[0m in \u001b[0;36m_read\u001b[0;34m(filepath_or_buffer, kwds)\u001b[0m\n\u001b[1;32m    480\u001b[0m \u001b[0;34m\u001b[0m\u001b[0m\n\u001b[1;32m    481\u001b[0m     \u001b[0;31m# Create the parser.\u001b[0m\u001b[0;34m\u001b[0m\u001b[0;34m\u001b[0m\u001b[0;34m\u001b[0m\u001b[0m\n\u001b[0;32m--> 482\u001b[0;31m     \u001b[0mparser\u001b[0m \u001b[0;34m=\u001b[0m \u001b[0mTextFileReader\u001b[0m\u001b[0;34m(\u001b[0m\u001b[0mfilepath_or_buffer\u001b[0m\u001b[0;34m,\u001b[0m \u001b[0;34m**\u001b[0m\u001b[0mkwds\u001b[0m\u001b[0;34m)\u001b[0m\u001b[0;34m\u001b[0m\u001b[0;34m\u001b[0m\u001b[0m\n\u001b[0m\u001b[1;32m    483\u001b[0m \u001b[0;34m\u001b[0m\u001b[0m\n\u001b[1;32m    484\u001b[0m     \u001b[0;32mif\u001b[0m \u001b[0mchunksize\u001b[0m \u001b[0;32mor\u001b[0m \u001b[0miterator\u001b[0m\u001b[0;34m:\u001b[0m\u001b[0;34m\u001b[0m\u001b[0;34m\u001b[0m\u001b[0m\n",
      "\u001b[0;32m/opt/anaconda3/lib/python3.8/site-packages/pandas/io/parsers/readers.py\u001b[0m in \u001b[0;36m__init__\u001b[0;34m(self, f, engine, **kwds)\u001b[0m\n\u001b[1;32m    809\u001b[0m             \u001b[0mself\u001b[0m\u001b[0;34m.\u001b[0m\u001b[0moptions\u001b[0m\u001b[0;34m[\u001b[0m\u001b[0;34m\"has_index_names\"\u001b[0m\u001b[0;34m]\u001b[0m \u001b[0;34m=\u001b[0m \u001b[0mkwds\u001b[0m\u001b[0;34m[\u001b[0m\u001b[0;34m\"has_index_names\"\u001b[0m\u001b[0;34m]\u001b[0m\u001b[0;34m\u001b[0m\u001b[0;34m\u001b[0m\u001b[0m\n\u001b[1;32m    810\u001b[0m \u001b[0;34m\u001b[0m\u001b[0m\n\u001b[0;32m--> 811\u001b[0;31m         \u001b[0mself\u001b[0m\u001b[0;34m.\u001b[0m\u001b[0m_engine\u001b[0m \u001b[0;34m=\u001b[0m \u001b[0mself\u001b[0m\u001b[0;34m.\u001b[0m\u001b[0m_make_engine\u001b[0m\u001b[0;34m(\u001b[0m\u001b[0mself\u001b[0m\u001b[0;34m.\u001b[0m\u001b[0mengine\u001b[0m\u001b[0;34m)\u001b[0m\u001b[0;34m\u001b[0m\u001b[0;34m\u001b[0m\u001b[0m\n\u001b[0m\u001b[1;32m    812\u001b[0m \u001b[0;34m\u001b[0m\u001b[0m\n\u001b[1;32m    813\u001b[0m     \u001b[0;32mdef\u001b[0m \u001b[0mclose\u001b[0m\u001b[0;34m(\u001b[0m\u001b[0mself\u001b[0m\u001b[0;34m)\u001b[0m\u001b[0;34m:\u001b[0m\u001b[0;34m\u001b[0m\u001b[0;34m\u001b[0m\u001b[0m\n",
      "\u001b[0;32m/opt/anaconda3/lib/python3.8/site-packages/pandas/io/parsers/readers.py\u001b[0m in \u001b[0;36m_make_engine\u001b[0;34m(self, engine)\u001b[0m\n\u001b[1;32m   1038\u001b[0m             )\n\u001b[1;32m   1039\u001b[0m         \u001b[0;31m# error: Too many arguments for \"ParserBase\"\u001b[0m\u001b[0;34m\u001b[0m\u001b[0;34m\u001b[0m\u001b[0;34m\u001b[0m\u001b[0m\n\u001b[0;32m-> 1040\u001b[0;31m         \u001b[0;32mreturn\u001b[0m \u001b[0mmapping\u001b[0m\u001b[0;34m[\u001b[0m\u001b[0mengine\u001b[0m\u001b[0;34m]\u001b[0m\u001b[0;34m(\u001b[0m\u001b[0mself\u001b[0m\u001b[0;34m.\u001b[0m\u001b[0mf\u001b[0m\u001b[0;34m,\u001b[0m \u001b[0;34m**\u001b[0m\u001b[0mself\u001b[0m\u001b[0;34m.\u001b[0m\u001b[0moptions\u001b[0m\u001b[0;34m)\u001b[0m  \u001b[0;31m# type: ignore[call-arg]\u001b[0m\u001b[0;34m\u001b[0m\u001b[0;34m\u001b[0m\u001b[0m\n\u001b[0m\u001b[1;32m   1041\u001b[0m \u001b[0;34m\u001b[0m\u001b[0m\n\u001b[1;32m   1042\u001b[0m     \u001b[0;32mdef\u001b[0m \u001b[0m_failover_to_python\u001b[0m\u001b[0;34m(\u001b[0m\u001b[0mself\u001b[0m\u001b[0;34m)\u001b[0m\u001b[0;34m:\u001b[0m\u001b[0;34m\u001b[0m\u001b[0;34m\u001b[0m\u001b[0m\n",
      "\u001b[0;32m/opt/anaconda3/lib/python3.8/site-packages/pandas/io/parsers/c_parser_wrapper.py\u001b[0m in \u001b[0;36m__init__\u001b[0;34m(self, src, **kwds)\u001b[0m\n\u001b[1;32m     49\u001b[0m \u001b[0;34m\u001b[0m\u001b[0m\n\u001b[1;32m     50\u001b[0m         \u001b[0;31m# open handles\u001b[0m\u001b[0;34m\u001b[0m\u001b[0;34m\u001b[0m\u001b[0;34m\u001b[0m\u001b[0m\n\u001b[0;32m---> 51\u001b[0;31m         \u001b[0mself\u001b[0m\u001b[0;34m.\u001b[0m\u001b[0m_open_handles\u001b[0m\u001b[0;34m(\u001b[0m\u001b[0msrc\u001b[0m\u001b[0;34m,\u001b[0m \u001b[0mkwds\u001b[0m\u001b[0;34m)\u001b[0m\u001b[0;34m\u001b[0m\u001b[0;34m\u001b[0m\u001b[0m\n\u001b[0m\u001b[1;32m     52\u001b[0m         \u001b[0;32massert\u001b[0m \u001b[0mself\u001b[0m\u001b[0;34m.\u001b[0m\u001b[0mhandles\u001b[0m \u001b[0;32mis\u001b[0m \u001b[0;32mnot\u001b[0m \u001b[0;32mNone\u001b[0m\u001b[0;34m\u001b[0m\u001b[0;34m\u001b[0m\u001b[0m\n\u001b[1;32m     53\u001b[0m \u001b[0;34m\u001b[0m\u001b[0m\n",
      "\u001b[0;32m/opt/anaconda3/lib/python3.8/site-packages/pandas/io/parsers/base_parser.py\u001b[0m in \u001b[0;36m_open_handles\u001b[0;34m(self, src, kwds)\u001b[0m\n\u001b[1;32m    220\u001b[0m         \u001b[0mLet\u001b[0m \u001b[0mthe\u001b[0m \u001b[0mreaders\u001b[0m \u001b[0mopen\u001b[0m \u001b[0mIOHandles\u001b[0m \u001b[0mafter\u001b[0m \u001b[0mthey\u001b[0m \u001b[0mare\u001b[0m \u001b[0mdone\u001b[0m \u001b[0;32mwith\u001b[0m \u001b[0mtheir\u001b[0m \u001b[0mpotential\u001b[0m \u001b[0mraises\u001b[0m\u001b[0;34m.\u001b[0m\u001b[0;34m\u001b[0m\u001b[0;34m\u001b[0m\u001b[0m\n\u001b[1;32m    221\u001b[0m         \"\"\"\n\u001b[0;32m--> 222\u001b[0;31m         self.handles = get_handle(\n\u001b[0m\u001b[1;32m    223\u001b[0m             \u001b[0msrc\u001b[0m\u001b[0;34m,\u001b[0m\u001b[0;34m\u001b[0m\u001b[0;34m\u001b[0m\u001b[0m\n\u001b[1;32m    224\u001b[0m             \u001b[0;34m\"r\"\u001b[0m\u001b[0;34m,\u001b[0m\u001b[0;34m\u001b[0m\u001b[0;34m\u001b[0m\u001b[0m\n",
      "\u001b[0;32m/opt/anaconda3/lib/python3.8/site-packages/pandas/io/common.py\u001b[0m in \u001b[0;36mget_handle\u001b[0;34m(path_or_buf, mode, encoding, compression, memory_map, is_text, errors, storage_options)\u001b[0m\n\u001b[1;32m    700\u001b[0m         \u001b[0;32mif\u001b[0m \u001b[0mioargs\u001b[0m\u001b[0;34m.\u001b[0m\u001b[0mencoding\u001b[0m \u001b[0;32mand\u001b[0m \u001b[0;34m\"b\"\u001b[0m \u001b[0;32mnot\u001b[0m \u001b[0;32min\u001b[0m \u001b[0mioargs\u001b[0m\u001b[0;34m.\u001b[0m\u001b[0mmode\u001b[0m\u001b[0;34m:\u001b[0m\u001b[0;34m\u001b[0m\u001b[0;34m\u001b[0m\u001b[0m\n\u001b[1;32m    701\u001b[0m             \u001b[0;31m# Encoding\u001b[0m\u001b[0;34m\u001b[0m\u001b[0;34m\u001b[0m\u001b[0;34m\u001b[0m\u001b[0m\n\u001b[0;32m--> 702\u001b[0;31m             handle = open(\n\u001b[0m\u001b[1;32m    703\u001b[0m                 \u001b[0mhandle\u001b[0m\u001b[0;34m,\u001b[0m\u001b[0;34m\u001b[0m\u001b[0;34m\u001b[0m\u001b[0m\n\u001b[1;32m    704\u001b[0m                 \u001b[0mioargs\u001b[0m\u001b[0;34m.\u001b[0m\u001b[0mmode\u001b[0m\u001b[0;34m,\u001b[0m\u001b[0;34m\u001b[0m\u001b[0;34m\u001b[0m\u001b[0m\n",
      "\u001b[0;31mFileNotFoundError\u001b[0m: [Errno 2] No such file or directory: 'aero2020_predictions/test_pram_lag=3_pred.csv'"
     ]
    }
   ],
   "source": [
    "#def returnToStartingValues(value, mean):\n",
    "#    return (np.e**value-1)*mean\n",
    "#aero2020 = pd.read_csv(f'aero2020_predictions/test_{target.lower()}_lag=3_pred.csv', header = 0)\n",
    "#aero2020 = aero2020.iloc[seq_len-1:,:].reset_index()\n",
    "#aero2020_predicted = list(map(lambda x: float(x), list(aero2020['Neural Network'])))\n",
    "#aero2020_predicted = list(map(lambda x: returnToStartingValues(x,MEAN),aero2020_predicted))\n",
    "#predictionsGraph([realValues, predictedValues, aero2020_predicted], ['stvarna', 'LSTM', 'aero2020'], target)\n",
    "#loss1 = np.sqrt(loss_fn(realValues, predictedValues))\n",
    "#loss2 = np.sqrt(loss_fn(realValues, torch.FloatTensor(aero2020_predicted)))\n",
    "#print('loss LSTM:',loss1,'loss aero2020:',loss2)"
   ]
  },
  {
   "cell_type": "code",
   "execution_count": 18,
   "id": "7c84561f-c0d1-43a5-a05c-431bd83c35a4",
   "metadata": {},
   "outputs": [
    {
     "name": "stdout",
     "output_type": "stream",
     "text": [
      "Spearman's coefficient: \n",
      "\t LSTM = SpearmanrResult(correlation=0.9034085965764367, pvalue=3.101378739881027e-90) \n",
      " \t pattern = SpearmanrResult(correlation=0.8860445738913761, pvalue=4.3438215187921604e-82), \n",
      " \t aero2020 = 0.0\n"
     ]
    }
   ],
   "source": [
    "spearman_LSTM = spearmanr(realValues[0], predictedValues[0])\n",
    "spearman_pattern = spearmanr(realValues[0], staraPredvidjenaVrijednost)\n",
    "#spearman_aero2020 = spearmanr(realValues, aero2020_predicted)\n",
    "spearman_aero2020 = 0.0\n",
    "\n",
    "print(f\"Spearman's coefficient: \\n\\t LSTM = {spearman_LSTM} \\n \\t pattern = {spearman_pattern}, \\n \\t aero2020 = {spearman_aero2020}\")"
   ]
  },
  {
   "cell_type": "code",
   "execution_count": null,
   "id": "80e070fd-9f82-4da0-aaae-1b1a6e290939",
   "metadata": {},
   "outputs": [],
   "source": []
  }
 ],
 "metadata": {
  "kernelspec": {
   "display_name": "Python 3 (ipykernel)",
   "language": "python",
   "name": "python3"
  },
  "language_info": {
   "codemirror_mode": {
    "name": "ipython",
    "version": 3
   },
   "file_extension": ".py",
   "mimetype": "text/x-python",
   "name": "python",
   "nbconvert_exporter": "python",
   "pygments_lexer": "ipython3",
   "version": "3.8.5"
  }
 },
 "nbformat": 4,
 "nbformat_minor": 5
}
