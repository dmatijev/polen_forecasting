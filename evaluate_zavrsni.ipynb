{
 "cells": [
  {
   "cell_type": "code",
   "execution_count": 280,
   "id": "4539fbd1-2fee-4a6c-893b-62a7fefc096a",
   "metadata": {},
   "outputs": [],
   "source": [
    "from model import *\n",
    "from train_test_split import *\n",
    "from predictionsGraph import *\n",
    "from data_set import *\n",
    "from torch.utils.data import DataLoader\n",
    "from scipy.stats import spearmanr\n",
    "from data_set import weighted_mse_loss"
   ]
  },
  {
   "cell_type": "code",
   "execution_count": 281,
   "id": "6d70ca1d-8cb6-477c-a124-5e72e86a484e",
   "metadata": {},
   "outputs": [],
   "source": [
    "seq_len = 3 #ovdje treba biti ista vrijednost kao kad se treniralo\n",
    "batch_size = 1 #\n",
    "hidden_dim = 512\n",
    "#hidden_dim2 = 1024\n",
    "attention = True\n",
    "target='PRAM'\n",
    "nr_days = 2\n",
    "use_weights = False\n",
    "is_cuda = torch.cuda.is_available()\n",
    "if is_cuda:\n",
    "    device = torch.device(\"cuda\")\n",
    "else:\n",
    "    device = torch.device(\"cpu\")"
   ]
  },
  {
   "cell_type": "code",
   "execution_count": 282,
   "id": "9020276c-a5c0-4e66-a8e6-c0a54fac99f1",
   "metadata": {},
   "outputs": [],
   "source": [
    "#train_data, val_data, test_data = load_data('real_for_all_podaci_novo.csv', 'lognormalize', target) \n",
    "train_data, val_data, test_data = load_data('sim-30-PRAM-real_for_all_podaci_novo.csv', 'lognormalize', target, 0, use_weights)\n",
    "train_dataset = Dataset(train_data, seq_len, nr_days, target)\n",
    "val_dataset = Dataset(val_data, seq_len, nr_days, target)\n",
    "test_dataset = Dataset(test_data, seq_len, nr_days, target)\n",
    "input_dim = train_dataset[0][0].shape[1]\n",
    "test_loader = DataLoader(test_dataset, shuffle=False, batch_size=batch_size)\n",
    "val_loader = DataLoader(val_dataset, shuffle=False, batch_size=batch_size)\n",
    "train_loader = DataLoader(train_dataset, shuffle=False, batch_size=batch_size)\n",
    "#model = Net(input_dim,  hidden_dim = hidden_dim, hidden_dim2 = hidden_dim2, seq_len=seq_len, nr_days=nr_days, attention=attention)\n",
    "\n",
    "model = Net(input_dim,  hidden_dim = hidden_dim, nr_days = nr_days, seq_len = seq_len, attention = attention, device = device)"
   ]
  },
  {
   "cell_type": "code",
   "execution_count": 283,
   "id": "1cd8360d-6a90-4091-8c41-66a7e024ceda",
   "metadata": {},
   "outputs": [
    {
     "data": {
      "text/plain": [
       "Net(\n",
       "  (lstm): LSTM(7, 512, batch_first=True)\n",
       "  (fc): Linear(in_features=512, out_features=1, bias=True)\n",
       "  (lstm_cell): LSTMCell(6, 512)\n",
       "  (sigmoid): Sigmoid()\n",
       "  (attention): Attention(\n",
       "    (v): Linear(in_features=3, out_features=1, bias=True)\n",
       "  )\n",
       ")"
      ]
     },
     "execution_count": 283,
     "metadata": {},
     "output_type": "execute_result"
    }
   ],
   "source": [
    "path_to_model = f'models/PRAM/batch_size_32-seq_len_3-lr_0.01-hidd_dim_128-hidd_dim2_1024-att_{attention}_best.weights'\n",
    "path_to_model = f'models/PRAM/batch_size_32-seq_len_3-lr_0.01-hidd_dim_128-hidd_dim2_128-att_{attention}_best.weights'\n",
    "path_to_model = f'models/PRAM/batch_size_32-seq_len_3-lr_0.007-hidd_dim_128-hidd_dim2_1024-att_{attention}_best.weights'\n",
    "path_to_model = f'models/PRAM/batch_size_32-seq_len_3-lr_0.005-hidd_dim_128-hidd_dim2_1024-att_{attention}_best.weights'\n",
    "\n",
    "path_to_model = f'models/PRBR/batch_size_128-seq_len_3-lr_0.005-hidd_dim_32-hidd_dim2_1024-att_{attention}_best.weights'\n",
    "path_to_model = f'models/PRBR/batch_size_128-seq_len_3-lr_0.01-hidd_dim_32-hidd_dim2_1024-att_{attention}_best.weights'\n",
    "\n",
    "path_to_model = f'models/PRTR/batch_size_128-seq_len_3-lr_0.007-hidd_dim_16-hidd_dim2_128-att_{attention}_best.weights'\n",
    "path_to_model = f'models/PRTR/batch_size_128-seq_len_3-lr_0.005-hidd_dim_16-hidd_dim2_128-att_{attention}_best.weights'\n",
    "\n",
    "path_to_model = f'models/PRAM/batch_size_32-seq_len_3-nr_days_2-lr_0.005-hidd_dim_128-hidd_dim2_1024-att_{attention}_best.weights'\n",
    "path_to_model = f'models/PRAM/batch_size_32-seq_len_3-nr_days_3-lr_0.005-hidd_dim_128-hidd_dim2_1024-att_{attention}_best.weights'\n",
    "\n",
    "path_to_model = f'models/PRAM/batch_size_32-seq_len_3-nr_days_2-lr_0.005-hidd_dim_128-hidd_dim2_1024-att_{attention}_best_probaMeteo.weights'\n",
    "path_to_model = f'models/PRAM/batch_size_32-seq_len_3-nr_days_1-lr_0.005-hidd_dim_128-hidd_dim2_1024-att_{attention}_best_probaMeteo.weights'\n",
    "path_to_model = f'models/PRAM/batch_size_32-seq_len_3-nr_days_1-lr_0.005-hidd_dim_256-hidd_dim2_1024-att_{attention}_best_probaMeteo.weights'\n",
    "\n",
    "path_to_model = f'models/PRAM/batch_size_32-seq_len_3-nr_days_1-lr_0.005-hidd_dim_512-hidd_dim2_1024-att_{attention}_best_meteo.weights'\n",
    "path_to_model = f'models/PRAM/batch_size_32-seq_len_3-nr_days_1-lr_0.005-hidd_dim_512-att_{attention}_best_meteo.weights'\n",
    "path_to_model = f'models/PRAM/batch_size_1-seq_len_3-nr_days_1-lr_0.005-hidd_dim_512-att_{attention}_best_meteo.weights'\n",
    "path_to_model = f'models/PRAM/batch_size_32-seq_len_3-nr_days_2-lr_0.005-hidd_dim_512-att_{attention}_best_meteo.weights'\n",
    "path_to_model = f'models/PRAM/batch_size_32-seq_len_3-nr_days_2-lr_0.005-hidd_dim_512-att_{attention}_useWeights_True_best_meteo.weights'\n",
    "path_to_model = f'models/PRAM/batch_size_32-seq_len_3-nr_days_1-lr_0.0005-hidd_dim_512-att_{attention}_useWeights_True_best_meteo.weights'\n",
    "path_to_model = f'models/PRAM/batch_size_32-seq_len_3-nr_days_1-lr_0.0001-hidd_dim_512-att_{attention}_useWeights_True_best_meteo.weights'\n",
    "#path_to_model = f'models/PRAM/batch_size_32-seq_len_3-nr_days_1-lr_0.0003-hidd_dim_512-att_{attention}_useWeights_{use_weights}_best_meteo.weights'\n",
    "\n",
    "path_to_model = f'models/PRAM/batch_size_32-seq_len_3-nr_days_1-lr_0.005-hidd_dim_512-att_{attention}_useWeights_True_best_meteo.weights'\n",
    "path_to_model = f'models/PRAM/batch_size_32-seq_len_3-nr_days_1-lr_0.0005-hidd_dim_512-att_{attention}_useWeights_True_best_meteo.weights'\n",
    "\n",
    "path_to_model = f'models/PRAM/batch_size_32-seq_len_3-nr_days_2-lr_0.005-hidd_dim_512-att_{attention}_best_meteo.weights'\n",
    "path_to_model = f'models/PRAM/batch_size_32-seq_len_3-nr_days_2-lr_0.001-hidd_dim_{hidden_dim}-att_{attention}_useWeights_{use_weights}_best_meteo.weights'\n",
    "model.load_state_dict(torch.load(path_to_model))\n",
    "model.eval()"
   ]
  },
  {
   "cell_type": "code",
   "execution_count": 284,
   "id": "903f945a-69af-4126-8e9e-596bdcc99e9f",
   "metadata": {},
   "outputs": [],
   "source": [
    "def calculateMean(targ='PRAM', locations=['NS'], test_years=[2015, 2016], valid_years=None):\n",
    "    #targ = targ\n",
    "    data = pd.read_csv('real_for_all_podaci_novo.csv')\n",
    "    data = data[[targ, 'GOD', 'LOK']]\n",
    "    trainvalid_dataset_pom, test_dataset_pom = train_test_split(data, targ, locations = locations, test_years=test_years)\n",
    "    if valid_years is not None:\n",
    "        trainvalid_dataset_pom, test_dataset_pom = train_test_split(data, targ, locations = locations, test_years=valid_years)\n",
    "    MEAN = trainvalid_dataset_pom[targ].mean()\n",
    "    return MEAN\n",
    "\n",
    "def returnTensorToStartingValues(t, mean):\n",
    "    return (torch.exp(t)-1)*mean\n",
    "\n",
    "MEAN = calculateMean(targ=target, locations=['NS'], test_years=[2015, 2016], valid_years=[2013,2014])"
   ]
  },
  {
   "cell_type": "code",
   "execution_count": 285,
   "id": "66b95708-c022-4d29-b1a4-6b4e6b098f53",
   "metadata": {},
   "outputs": [],
   "source": [
    "realValues = []\n",
    "predictedValues = []\n",
    "w = []\n",
    "for dan in range(nr_days):\n",
    "    realValues.append([])\n",
    "    predictedValues.append([])\n",
    "    w.append([])\n",
    "model.to('cuda')\n",
    "\n",
    "for (inputs, meteo, labels, weights) in test_loader:\n",
    "    inputs, meteo, labels, weights = inputs.to(device), meteo.to(device), labels.to(device), weights.to(device)\n",
    "    output = model(inputs, meteo)#, h)\n",
    "    for dan in range(nr_days):\n",
    "        realValues[dan].append(labels[0][dan].item())\n",
    "        predictedValues[dan].append(output[0][dan].item())\n",
    "        w[dan].append(weights[0][dan].item())\n",
    "\n",
    "for dan in range(nr_days):\n",
    "    realValues[dan] = torch.FloatTensor(realValues[dan])\n",
    "    predictedValues[dan]= torch.FloatTensor(predictedValues[dan])\n",
    "    w[dan]= torch.FloatTensor(w[dan])\n",
    "    realValues[dan] = returnTensorToStartingValues(realValues[dan],MEAN)\n",
    "    predictedValues[dan] = returnTensorToStartingValues(predictedValues[dan],MEAN)"
   ]
  },
  {
   "cell_type": "code",
   "execution_count": 286,
   "id": "baedd08b-88d3-4a07-aad9-2714096d220b",
   "metadata": {},
   "outputs": [],
   "source": [
    "naivePrediction = []\n",
    "for dan in range(nr_days):\n",
    "    naivePrediction.append([])\n",
    "    naivePrediction[dan].append(realValues[dan][0].item()) #prvi dan nek bude jednak stvarnom, a onda svi ostali su samo prekopirani prethodni dani\n",
    "    for i in range(1,len(realValues[dan])):\n",
    "        naivePrediction[dan].append(realValues[dan][i-1].item())\n",
    "    naivePrediction[dan] = torch.FloatTensor(naivePrediction[dan])"
   ]
  },
  {
   "cell_type": "code",
   "execution_count": 287,
   "id": "cadcaaa5-5674-4abc-9d8c-b4f4f01d290a",
   "metadata": {},
   "outputs": [
    {
     "data": {
      "image/png": "[encoded data removed]",
      "text/plain": [
       "<Figure size 432x288 with 1 Axes>"
      ]
     },
     "metadata": {
      "needs_background": "light"
     },
     "output_type": "display_data"
    },
    {
     "data": {
      "image/png": "[encoded data removed]",
      "text/plain": [
       "<Figure size 432x288 with 1 Axes>"
      ]
     },
     "metadata": {
      "needs_background": "light"
     },
     "output_type": "display_data"
    },
    {
     "name": "stdout",
     "output_type": "stream",
     "text": [
      "DAN 0  loss LSTM: tensor(104.5138) loss pattern: tensor(130.8135) loss naive model: tensor(104.0736)\n",
      "DAN 0  weighted loss LSTM: tensor(104.5138) weighted loss pattern: tensor(130.8135) weighted loss naive model: tensor(104.0736)\n",
      "DAN 1  loss LSTM: tensor(120.3969) loss pattern: tensor(128.9835) loss naive model: tensor(104.0737)\n",
      "DAN 1  weighted loss LSTM: tensor(120.3969) weighted loss pattern: tensor(128.9835) weighted loss naive model: tensor(104.0737)\n"
     ]
    }
   ],
   "source": [
    "if target=='PRAM':\n",
    "    naziv='ambrozija'\n",
    "if target=='PRBR':\n",
    "    naziv='breza'\n",
    "if target=='PRTR':\n",
    "    naziv='trave'\n",
    "podaciZaCrtanje = pd.read_csv(naziv+'_NoviSad_patternPredictions.csv')\n",
    "podaciZaCrtanje = podaciZaCrtanje.sort_values(by=['DAT'])\n",
    "#print(podaciZaCrtanje)\n",
    "staraPredvidjenaVrijednost = []\n",
    "for i in range(len(podaciZaCrtanje)):\n",
    "    staraPredvidjenaVrijednost.append(podaciZaCrtanje.iloc[i].predvidjenaVrijednost)\n",
    "staraPredvidjenaVrijednost = staraPredvidjenaVrijednost[seq_len:-1*nr_days] #jer za prva 3 dana LSTM ne predvidja (tako su napravljeni podaci)\n",
    "#predictionsGraph([realValues, predictedValues, staraPredvidjenaVrijednost], ['stvarna', 'LSTM', 'patterns'],target)\n",
    "#predictionsGraphScatter([realValues, predictedValues, staraPredvidjenaVrijednost], ['stvarna', 'LSTM', 'patterns'],target)\n",
    "for dan in range(nr_days):\n",
    "    predictionsGraph([realValues[dan], predictedValues[dan]], ['stvarna_dan'+str(dan), 'LSTM_dan'+str(dan)],target)\n",
    "\n",
    "loss_fn = nn.MSELoss(reduction='mean')\n",
    "wloss_fn = weighted_mse_loss(reduction='mean')\n",
    "for dan in range(nr_days):\n",
    "    loss1 = np.sqrt(loss_fn(realValues[dan], predictedValues[dan]))\n",
    "    loss2 = np.sqrt(loss_fn(realValues[dan], torch.FloatTensor(staraPredvidjenaVrijednost)))\n",
    "    loss3 = np.sqrt(loss_fn(realValues[dan], naivePrediction[dan]))\n",
    "    print('DAN',dan,' loss LSTM:',loss1,'loss pattern:',loss2, 'loss naive model:', loss3)\n",
    "    wloss1 = np.sqrt(wloss_fn(realValues[dan], predictedValues[dan], w[dan]))\n",
    "    wloss2 = np.sqrt(wloss_fn(realValues[dan], torch.FloatTensor(staraPredvidjenaVrijednost), w[dan]))\n",
    "    wloss3 = np.sqrt(wloss_fn(realValues[dan], naivePrediction[dan], w[dan]))\n",
    "    print('DAN',dan,' weighted loss LSTM:',wloss1,'weighted loss pattern:',wloss2, 'weighted loss naive model:', wloss3)"
   ]
  },
  {
   "cell_type": "code",
   "execution_count": 220,
   "id": "d44d0795-39e0-47fa-b3b1-7de2087be14e",
   "metadata": {},
   "outputs": [],
   "source": [
    "#def returnToStartingValues(value, mean):\n",
    "#    return (np.e**value-1)*mean\n",
    "#aero2020 = pd.read_csv(f'aero2020_predictions/test_{target.lower()}_lag=3_pred.csv', header = 0)\n",
    "#aero2020 = aero2020.iloc[seq_len-1:,:].reset_index()\n",
    "#aero2020_predicted = list(map(lambda x: float(x), list(aero2020['Neural Network'])))\n",
    "#aero2020_predicted = list(map(lambda x: returnToStartingValues(x,MEAN),aero2020_predicted))\n",
    "#predictionsGraph([realValues, predictedValues, aero2020_predicted], ['stvarna', 'LSTM', 'aero2020'], target)\n",
    "#loss1 = np.sqrt(loss_fn(realValues, predictedValues))\n",
    "#loss2 = np.sqrt(loss_fn(realValues, torch.FloatTensor(aero2020_predicted)))\n",
    "#print('loss LSTM:',loss1,'loss aero2020:',loss2)"
   ]
  },
  {
   "cell_type": "code",
   "execution_count": 43,
   "id": "7c84561f-c0d1-43a5-a05c-431bd83c35a4",
   "metadata": {},
   "outputs": [
    {
     "name": "stdout",
     "output_type": "stream",
     "text": [
      "Spearman's coefficient: \n",
      "\t LSTM = SpearmanrResult(correlation=0.9342288476356653, pvalue=5.42620885435188e-109) \n",
      " \t pattern = SpearmanrResult(correlation=0.8866139133064092, pvalue=5.34660150955267e-82), \n",
      " \t aero2020 = 0.0\n"
     ]
    }
   ],
   "source": [
    "spearman_LSTM = spearmanr(realValues[0], predictedValues[0])\n",
    "spearman_pattern = spearmanr(realValues[0], staraPredvidjenaVrijednost)\n",
    "#spearman_aero2020 = spearmanr(realValues, aero2020_predicted)\n",
    "spearman_aero2020 = 0.0\n",
    "\n",
    "print(f\"Spearman's coefficient: \\n\\t LSTM = {spearman_LSTM} \\n \\t pattern = {spearman_pattern}, \\n \\t aero2020 = {spearman_aero2020}\")"
   ]
  },
  {
   "cell_type": "code",
   "execution_count": null,
   "id": "80e070fd-9f82-4da0-aaae-1b1a6e290939",
   "metadata": {},
   "outputs": [],
   "source": []
  }
 ],
 "metadata": {
  "kernelspec": {
   "display_name": "Python 3 (ipykernel)",
   "language": "python",
   "name": "python3"
  },
  "language_info": {
   "codemirror_mode": {
    "name": "ipython",
    "version": 3
   },
   "file_extension": ".py",
   "mimetype": "text/x-python",
   "name": "python",
   "nbconvert_exporter": "python",
   "pygments_lexer": "ipython3",
   "version": "3.8.5"
  }
 },
 "nbformat": 4,
 "nbformat_minor": 5
}
